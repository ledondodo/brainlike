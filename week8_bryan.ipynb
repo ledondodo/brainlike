{
 "cells": [
  {
   "cell_type": "markdown",
   "metadata": {},
   "source": [
    "#### NX-414: Brain-like computation and intelligence\n",
    "Notebook prepared by Alessandro Marin Vargas"
   ]
  },
  {
   "attachments": {},
   "cell_type": "markdown",
   "metadata": {},
   "source": [
    "# Week 8 - Mini projects (Predicting neural activity)\n",
    "\n",
    "The objectives of the mini project are:\n",
    "- Learn how to predict neural activity using linear regression from images and from neural network layers.\n",
    "- Quantify the goodness of the model\n",
    "- Compare the results across the network layers and between trained/random neural network\n",
    "- Predict the neural activity using a neural network in a data-driven approach\n",
    "\n",
    "Specifically, here you will use the data from the following [paper](https://www.jneurosci.org/content/jneuro/35/39/13402.full.pdf). The behavioral experiment consisted in showing to non-human primates some images while recording the neural activity with multielectrode arrays from the inferior temporal (IT) cortex. Here, the neural activity and the images are already pre-processed and you will have available the images and the corresponding average firing rate (between 70 and 170 ms) per each neuron."
   ]
  },
  {
   "attachments": {},
   "cell_type": "markdown",
   "metadata": {},
   "source": [
    "# Challenge: Develop the most accurate model for predicting IT neural activity.\n",
    "\n",
    "Throughout the mini-projects, you have acquired knowledge on predicting neural activity through both task-driven and data-driven approaches. You are now free to explore both approaches to create the most effective model for predicting neural activity. Here are some suggestions to help guide your exploration:\n",
    "- Optimize your current models by adjusting hyperparameters and implementing different regularizations.\n",
    "- Utilize different pretrained models.\n",
    "- Employ a pretrained neural network and finetune it for predicting the neural activity.\n",
    "- Train a neural network for object recognition while simultaneously predicting neural activity.\n",
    "- ...\n",
    "\n",
    "Please note that all models will be tested using the same type of linear regression.\n",
    "\n",
    "### EVALUATION\n",
    "\n",
    "You have until midnight of 07/05/25 to submit your mini-projects. Please upload a .zip file on Moodle containing your code and, specifically, the following:\n",
    "\n",
    "- A one-page report (Report.pdf) detailing your investigation, including figures and model comparisons.\n",
    "- A script (test.py) or notebook (test.ipynb) in which you show an example of your best model's usage. Please include instructions on loading the model and making neural predictions on the validation set. If necessary, include the checkpoint of your model in the .zip file.\n",
    "\n",
    "Best of luck!"
   ]
  },
  {
   "cell_type": "markdown",
   "metadata": {},
   "source": [
    "=========================================================================================\n",
    "\n",
    "From BrainScore \"resnet50_barlow\" is ranked 1st for alignment on IT data from MajajHong2015. \"layer4.0\" is best aligned on IT.\n",
    "\n",
    "https://www.brain-score.org/model/vision/1310\n",
    "\n",
    "https://github.com/facebookresearch/barlowtwins\n"
   ]
  },
  {
   "cell_type": "code",
   "execution_count": 1,
   "metadata": {},
   "outputs": [],
   "source": [
    "%reload_ext autoreload\n",
    "%autoreload 2"
   ]
  },
  {
   "cell_type": "code",
   "execution_count": 2,
   "metadata": {},
   "outputs": [],
   "source": [
    "from utils import *\n",
    "import matplotlib.pyplot as plt\n",
    "import numpy as np\n",
    "from sklearn.decomposition import PCA\n",
    "from sklearn.linear_model import Ridge\n",
    "from torchvision.models.feature_extraction import create_feature_extractor\n",
    "from sklearn.metrics import mean_squared_error, explained_variance_score\n",
    "from sklearn.model_selection import StratifiedKFold\n",
    "import torch\n",
    "from tqdm import tqdm\n",
    "from torchinfo import summary\n",
    "\n",
    "device = torch.device(\"cuda\" if torch.cuda.is_available() else \"cpu\")\n",
    "\n",
    "path_to_data = ''\n",
    "stimulus_train, stimulus_val, stimulus_test, objects_train, objects_val, objects_test, spikes_train, spikes_val = load_it_data(path_to_data)\n",
    "n_stimulus = stimulus_train.shape[0]"
   ]
  },
  {
   "cell_type": "code",
   "execution_count": 3,
   "metadata": {},
   "outputs": [
    {
     "name": "stderr",
     "output_type": "stream",
     "text": [
      "Using cache found in /home/gotti/.cache/torch/hub/facebookresearch_barlowtwins_main\n",
      "/home/gotti/.virtualenvs/brain/lib64/python3.9/site-packages/torchvision/models/_utils.py:208: UserWarning: The parameter 'pretrained' is deprecated since 0.13 and may be removed in the future, please use 'weights' instead.\n",
      "  warnings.warn(\n",
      "/home/gotti/.virtualenvs/brain/lib64/python3.9/site-packages/torchvision/models/_utils.py:223: UserWarning: Arguments other than a weight enum or `None` for 'weights' are deprecated since 0.13 and may be removed in the future. The current behavior is equivalent to passing `weights=None`.\n",
      "  warnings.warn(msg)\n"
     ]
    },
    {
     "name": "stdout",
     "output_type": "stream",
     "text": [
      "Computation on cuda.\n"
     ]
    }
   ],
   "source": [
    "model = torch.hub.load('facebookresearch/barlowtwins:main', 'resnet50')\n",
    "model = model.to(device)\n",
    "model.eval()\n",
    "\n",
    "print(f\"Computation on {device}.\")"
   ]
  },
  {
   "cell_type": "code",
   "execution_count": 4,
   "metadata": {},
   "outputs": [
    {
     "data": {
      "text/plain": [
       "=================================================================\n",
       "Layer (type:depth-idx)                   Param #\n",
       "=================================================================\n",
       "ResNet                                   --\n",
       "├─Conv2d: 1-1                            9,408\n",
       "├─BatchNorm2d: 1-2                       128\n",
       "├─ReLU: 1-3                              --\n",
       "├─MaxPool2d: 1-4                         --\n",
       "├─Sequential: 1-5                        --\n",
       "│    └─Bottleneck: 2-1                   --\n",
       "│    │    └─Conv2d: 3-1                  4,096\n",
       "│    │    └─BatchNorm2d: 3-2             128\n",
       "│    │    └─Conv2d: 3-3                  36,864\n",
       "│    │    └─BatchNorm2d: 3-4             128\n",
       "│    │    └─Conv2d: 3-5                  16,384\n",
       "│    │    └─BatchNorm2d: 3-6             512\n",
       "│    │    └─ReLU: 3-7                    --\n",
       "│    │    └─Sequential: 3-8              16,896\n",
       "│    └─Bottleneck: 2-2                   --\n",
       "│    │    └─Conv2d: 3-9                  16,384\n",
       "│    │    └─BatchNorm2d: 3-10            128\n",
       "│    │    └─Conv2d: 3-11                 36,864\n",
       "│    │    └─BatchNorm2d: 3-12            128\n",
       "│    │    └─Conv2d: 3-13                 16,384\n",
       "│    │    └─BatchNorm2d: 3-14            512\n",
       "│    │    └─ReLU: 3-15                   --\n",
       "│    └─Bottleneck: 2-3                   --\n",
       "│    │    └─Conv2d: 3-16                 16,384\n",
       "│    │    └─BatchNorm2d: 3-17            128\n",
       "│    │    └─Conv2d: 3-18                 36,864\n",
       "│    │    └─BatchNorm2d: 3-19            128\n",
       "│    │    └─Conv2d: 3-20                 16,384\n",
       "│    │    └─BatchNorm2d: 3-21            512\n",
       "│    │    └─ReLU: 3-22                   --\n",
       "├─Sequential: 1-6                        --\n",
       "│    └─Bottleneck: 2-4                   --\n",
       "│    │    └─Conv2d: 3-23                 32,768\n",
       "│    │    └─BatchNorm2d: 3-24            256\n",
       "│    │    └─Conv2d: 3-25                 147,456\n",
       "│    │    └─BatchNorm2d: 3-26            256\n",
       "│    │    └─Conv2d: 3-27                 65,536\n",
       "│    │    └─BatchNorm2d: 3-28            1,024\n",
       "│    │    └─ReLU: 3-29                   --\n",
       "│    │    └─Sequential: 3-30             132,096\n",
       "│    └─Bottleneck: 2-5                   --\n",
       "│    │    └─Conv2d: 3-31                 65,536\n",
       "│    │    └─BatchNorm2d: 3-32            256\n",
       "│    │    └─Conv2d: 3-33                 147,456\n",
       "│    │    └─BatchNorm2d: 3-34            256\n",
       "│    │    └─Conv2d: 3-35                 65,536\n",
       "│    │    └─BatchNorm2d: 3-36            1,024\n",
       "│    │    └─ReLU: 3-37                   --\n",
       "│    └─Bottleneck: 2-6                   --\n",
       "│    │    └─Conv2d: 3-38                 65,536\n",
       "│    │    └─BatchNorm2d: 3-39            256\n",
       "│    │    └─Conv2d: 3-40                 147,456\n",
       "│    │    └─BatchNorm2d: 3-41            256\n",
       "│    │    └─Conv2d: 3-42                 65,536\n",
       "│    │    └─BatchNorm2d: 3-43            1,024\n",
       "│    │    └─ReLU: 3-44                   --\n",
       "│    └─Bottleneck: 2-7                   --\n",
       "│    │    └─Conv2d: 3-45                 65,536\n",
       "│    │    └─BatchNorm2d: 3-46            256\n",
       "│    │    └─Conv2d: 3-47                 147,456\n",
       "│    │    └─BatchNorm2d: 3-48            256\n",
       "│    │    └─Conv2d: 3-49                 65,536\n",
       "│    │    └─BatchNorm2d: 3-50            1,024\n",
       "│    │    └─ReLU: 3-51                   --\n",
       "├─Sequential: 1-7                        --\n",
       "│    └─Bottleneck: 2-8                   --\n",
       "│    │    └─Conv2d: 3-52                 131,072\n",
       "│    │    └─BatchNorm2d: 3-53            512\n",
       "│    │    └─Conv2d: 3-54                 589,824\n",
       "│    │    └─BatchNorm2d: 3-55            512\n",
       "│    │    └─Conv2d: 3-56                 262,144\n",
       "│    │    └─BatchNorm2d: 3-57            2,048\n",
       "│    │    └─ReLU: 3-58                   --\n",
       "│    │    └─Sequential: 3-59             526,336\n",
       "│    └─Bottleneck: 2-9                   --\n",
       "│    │    └─Conv2d: 3-60                 262,144\n",
       "│    │    └─BatchNorm2d: 3-61            512\n",
       "│    │    └─Conv2d: 3-62                 589,824\n",
       "│    │    └─BatchNorm2d: 3-63            512\n",
       "│    │    └─Conv2d: 3-64                 262,144\n",
       "│    │    └─BatchNorm2d: 3-65            2,048\n",
       "│    │    └─ReLU: 3-66                   --\n",
       "│    └─Bottleneck: 2-10                  --\n",
       "│    │    └─Conv2d: 3-67                 262,144\n",
       "│    │    └─BatchNorm2d: 3-68            512\n",
       "│    │    └─Conv2d: 3-69                 589,824\n",
       "│    │    └─BatchNorm2d: 3-70            512\n",
       "│    │    └─Conv2d: 3-71                 262,144\n",
       "│    │    └─BatchNorm2d: 3-72            2,048\n",
       "│    │    └─ReLU: 3-73                   --\n",
       "│    └─Bottleneck: 2-11                  --\n",
       "│    │    └─Conv2d: 3-74                 262,144\n",
       "│    │    └─BatchNorm2d: 3-75            512\n",
       "│    │    └─Conv2d: 3-76                 589,824\n",
       "│    │    └─BatchNorm2d: 3-77            512\n",
       "│    │    └─Conv2d: 3-78                 262,144\n",
       "│    │    └─BatchNorm2d: 3-79            2,048\n",
       "│    │    └─ReLU: 3-80                   --\n",
       "│    └─Bottleneck: 2-12                  --\n",
       "│    │    └─Conv2d: 3-81                 262,144\n",
       "│    │    └─BatchNorm2d: 3-82            512\n",
       "│    │    └─Conv2d: 3-83                 589,824\n",
       "│    │    └─BatchNorm2d: 3-84            512\n",
       "│    │    └─Conv2d: 3-85                 262,144\n",
       "│    │    └─BatchNorm2d: 3-86            2,048\n",
       "│    │    └─ReLU: 3-87                   --\n",
       "│    └─Bottleneck: 2-13                  --\n",
       "│    │    └─Conv2d: 3-88                 262,144\n",
       "│    │    └─BatchNorm2d: 3-89            512\n",
       "│    │    └─Conv2d: 3-90                 589,824\n",
       "│    │    └─BatchNorm2d: 3-91            512\n",
       "│    │    └─Conv2d: 3-92                 262,144\n",
       "│    │    └─BatchNorm2d: 3-93            2,048\n",
       "│    │    └─ReLU: 3-94                   --\n",
       "├─Sequential: 1-8                        --\n",
       "│    └─Bottleneck: 2-14                  --\n",
       "│    │    └─Conv2d: 3-95                 524,288\n",
       "│    │    └─BatchNorm2d: 3-96            1,024\n",
       "│    │    └─Conv2d: 3-97                 2,359,296\n",
       "│    │    └─BatchNorm2d: 3-98            1,024\n",
       "│    │    └─Conv2d: 3-99                 1,048,576\n",
       "│    │    └─BatchNorm2d: 3-100           4,096\n",
       "│    │    └─ReLU: 3-101                  --\n",
       "│    │    └─Sequential: 3-102            2,101,248\n",
       "│    └─Bottleneck: 2-15                  --\n",
       "│    │    └─Conv2d: 3-103                1,048,576\n",
       "│    │    └─BatchNorm2d: 3-104           1,024\n",
       "│    │    └─Conv2d: 3-105                2,359,296\n",
       "│    │    └─BatchNorm2d: 3-106           1,024\n",
       "│    │    └─Conv2d: 3-107                1,048,576\n",
       "│    │    └─BatchNorm2d: 3-108           4,096\n",
       "│    │    └─ReLU: 3-109                  --\n",
       "│    └─Bottleneck: 2-16                  --\n",
       "│    │    └─Conv2d: 3-110                1,048,576\n",
       "│    │    └─BatchNorm2d: 3-111           1,024\n",
       "│    │    └─Conv2d: 3-112                2,359,296\n",
       "│    │    └─BatchNorm2d: 3-113           1,024\n",
       "│    │    └─Conv2d: 3-114                1,048,576\n",
       "│    │    └─BatchNorm2d: 3-115           4,096\n",
       "│    │    └─ReLU: 3-116                  --\n",
       "├─AdaptiveAvgPool2d: 1-9                 --\n",
       "├─Linear: 1-10                           2,049,000\n",
       "=================================================================\n",
       "Total params: 25,557,032\n",
       "Trainable params: 25,557,032\n",
       "Non-trainable params: 0\n",
       "================================================================="
      ]
     },
     "execution_count": 4,
     "metadata": {},
     "output_type": "execute_result"
    }
   ],
   "source": [
    "summary(model)"
   ]
  },
  {
   "cell_type": "code",
   "execution_count": 3,
   "metadata": {},
   "outputs": [],
   "source": [
    "return_node = 'layer4.0'\n",
    "dir = 'tmp'"
   ]
  },
  {
   "cell_type": "code",
   "execution_count": null,
   "metadata": {},
   "outputs": [
    {
     "name": "stdout",
     "output_type": "stream",
     "text": [
      "Extracting layer4.0 activations...\n",
      "Saved training activations to tmp/layer4.0_train.pt\n",
      "Saved validation activations to tmp/layer4.0_val.pt\n"
     ]
    }
   ],
   "source": [
    "imgs_tr = torch.from_numpy(stimulus_train).to(device)\n",
    "imgs_val = torch.from_numpy(stimulus_val).to(device)\n",
    "\n",
    "with torch.no_grad():\n",
    "    print(f\"Extracting {return_node} activations...\")\n",
    "    \n",
    "    # Forward training set\n",
    "    extractor = create_feature_extractor(model, return_nodes={return_node:return_node})\n",
    "    activation_tr = extractor(imgs_tr)[return_node]\n",
    "    fname = f\"{dir}/{return_node}_train.pt\"\n",
    "    torch.save(activation_tr.detach().cpu(), fname)\n",
    "    print(f\"Saved training activations to {fname}\")\n",
    "\n",
    "    # Forward validation set\n",
    "    activation_val = extractor(imgs_val)[return_node]\n",
    "    fname = f\"{dir}/{return_node}_val.pt\"\n",
    "    torch.save(activation_val.detach().cpu(), fname)\n",
    "    print(f\"Saved validation activations to {fname}\")\n",
    "\n",
    "    torch.cuda.empty_cache()\n"
   ]
  },
  {
   "cell_type": "code",
   "execution_count": 4,
   "metadata": {},
   "outputs": [
    {
     "name": "stdout",
     "output_type": "stream",
     "text": [
      "Loading activations from tmp...\n",
      "Training activations shape: torch.Size([2592, 2048, 7, 7])\n",
      "Validation activations shape: torch.Size([288, 2048, 7, 7])\n"
     ]
    }
   ],
   "source": [
    "print(f\"Loading activations from {dir}...\")\n",
    "activation_tr = torch.load(f\"{dir}/{return_node}_train.pt\")\n",
    "activation_val = torch.load(f\"{dir}/{return_node}_val.pt\")\n",
    "print(f\"Training activations shape: {activation_tr.shape}\")\n",
    "print(f\"Validation activations shape: {activation_val.shape}\")\n",
    "\n",
    "flatten_activations_tr = torch.reshape(activation_tr, (activation_tr.shape[0], -1))\n",
    "flatten_activations_val = torch.reshape(activation_val, (activation_val.shape[0], -1))"
   ]
  },
  {
   "cell_type": "code",
   "execution_count": 7,
   "metadata": {},
   "outputs": [],
   "source": [
    "# Run PCA\n",
    "pca = PCA(n_components=0.9)\n",
    "pca_activations_tr = torch.tensor(pca.fit_transform(flatten_activations_tr.cpu().numpy()))\n",
    "pca_activations_val = torch.tensor(pca.transform(flatten_activations_val.cpu().numpy()))"
   ]
  },
  {
   "cell_type": "code",
   "execution_count": 9,
   "metadata": {},
   "outputs": [
    {
     "name": "stdout",
     "output_type": "stream",
     "text": [
      "Activations batch shape: torch.Size([8, 1512])\n",
      "Spikes batch shape: torch.Size([8, 168])\n",
      "Activations validation shape: torch.Size([288, 1512])\n",
      "Spikes validation shape: torch.Size([288, 168])\n"
     ]
    }
   ],
   "source": [
    "from dataset import ActivationsDataset\n",
    "from torch.utils.data import DataLoader\n",
    "\n",
    "train_dataset = ActivationsDataset(pca_activations_tr, spikes_train, device)\n",
    "train_loader = DataLoader(train_dataset, batch_size=8, shuffle=True)\n",
    "\n",
    "val_inputs = pca_activations_val.to(device)\n",
    "val_targets = torch.tensor(spikes_val, dtype=torch.float32, device=device)\n",
    "\n",
    "# Display 1st batch shape\n",
    "for activation_batch, spikes_batch in train_loader:\n",
    "    input_size = activation_batch.shape[1]\n",
    "    print(f\"Activations batch shape: {activation_batch.shape}\")\n",
    "    print(f\"Spikes batch shape: {spikes_batch.shape}\")\n",
    "    break\n",
    "\n",
    "print(f\"Activations validation shape: {val_inputs.shape}\")\n",
    "print(f\"Spikes validation shape: {val_targets.shape}\")"
   ]
  },
  {
   "cell_type": "code",
   "execution_count": 18,
   "metadata": {},
   "outputs": [],
   "source": [
    "import torch.nn as nn\n",
    "import torch.nn.functional as F\n",
    "\n",
    "class ActivationsFFN(nn.Module):\n",
    "    def __init__(self, input_size=input_size, hidden_1_size=2**10, hidden_2_size=2**9, output_size=168):\n",
    "        super(ActivationsFFN, self).__init__()\n",
    "        self.fc1 = nn.Linear(input_size, hidden_1_size)\n",
    "        self.fc2 = nn.Linear(hidden_1_size, hidden_2_size)\n",
    "        self.fc3 = nn.Linear(hidden_2_size, output_size)\n",
    "\n",
    "    def forward(self, x):\n",
    "        x = F.relu(self.fc1(x))\n",
    "        x = F.relu(self.fc2(x))\n",
    "        x = self.fc3(x)\n",
    "        return x"
   ]
  },
  {
   "cell_type": "code",
   "execution_count": 22,
   "metadata": {},
   "outputs": [],
   "source": [
    "activations_ffn = ActivationsFFN().to(device)\n",
    "loss_fn = nn.MSELoss()\n",
    "opt = torch.optim.Adam(activations_ffn.parameters(), lr=0.001)"
   ]
  },
  {
   "cell_type": "code",
   "execution_count": 23,
   "metadata": {},
   "outputs": [
    {
     "data": {
      "text/plain": [
       "=================================================================\n",
       "Layer (type:depth-idx)                   Param #\n",
       "=================================================================\n",
       "ActivationsFFN                           --\n",
       "├─Linear: 1-1                            1,549,312\n",
       "├─Linear: 1-2                            524,800\n",
       "├─Linear: 1-3                            86,184\n",
       "=================================================================\n",
       "Total params: 2,160,296\n",
       "Trainable params: 2,160,296\n",
       "Non-trainable params: 0\n",
       "================================================================="
      ]
     },
     "execution_count": 23,
     "metadata": {},
     "output_type": "execute_result"
    }
   ],
   "source": [
    "summary(activations_ffn)"
   ]
  },
  {
   "cell_type": "code",
   "execution_count": 24,
   "metadata": {},
   "outputs": [
    {
     "name": "stdout",
     "output_type": "stream",
     "text": [
      "Ep 1/100, it 324/324: loss train: 0.10, metric validation: 0.29\n",
      "Ep 2/100, it 324/324: loss train: 0.09, metric validation: 0.32\n",
      "Ep 3/100, it 324/324: loss train: 0.08, metric validation: 0.34\n",
      "Ep 4/100, it 324/324: loss train: 0.07, metric validation: 0.34\n",
      "Ep 5/100, it 324/324: loss train: 0.08, metric validation: 0.36\n",
      "Ep 6/100, it 324/324: loss train: 0.08, metric validation: 0.35\n",
      "Ep 7/100, it 324/324: loss train: 0.07, metric validation: 0.36\n",
      "Ep 8/100, it 324/324: loss train: 0.06, metric validation: 0.35\n",
      "Ep 9/100, it 324/324: loss train: 0.07, metric validation: 0.35\n",
      "Ep 10/100, it 324/324: loss train: 0.08, metric validation: 0.35\n",
      "Ep 11/100, it 324/324: loss train: 0.06, metric validation: 0.36\n",
      "Ep 12/100, it 324/324: loss train: 0.09, metric validation: 0.33\n",
      "Ep 13/100, it 324/324: loss train: 0.06, metric validation: 0.35\n",
      "Ep 14/100, it 324/324: loss train: 0.08, metric validation: 0.35\n",
      "Ep 15/100, it 324/324: loss train: 0.07, metric validation: 0.35\n",
      "Ep 16/100, it 324/324: loss train: 0.07, metric validation: 0.34\n",
      "Ep 17/100, it 324/324: loss train: 0.05, metric validation: 0.34\n",
      "Ep 18/100, it 324/324: loss train: 0.07, metric validation: 0.34\n",
      "Ep 19/100, it 324/324: loss train: 0.07, metric validation: 0.33\n",
      "Ep 20/100, it 324/324: loss train: 0.07, metric validation: 0.36\n",
      "Ep 21/100, it 324/324: loss train: 0.07, metric validation: 0.35\n",
      "Ep 22/100, it 324/324: loss train: 0.08, metric validation: 0.35\n",
      "Ep 23/100, it 324/324: loss train: 0.06, metric validation: 0.35\n",
      "Ep 24/100, it 324/324: loss train: 0.06, metric validation: 0.35\n",
      "Ep 25/100, it 324/324: loss train: 0.06, metric validation: 0.35\n",
      "Ep 26/100, it 324/324: loss train: 0.06, metric validation: 0.35\n",
      "Ep 27/100, it 324/324: loss train: 0.08, metric validation: 0.35\n",
      "Ep 28/100, it 324/324: loss train: 0.07, metric validation: 0.36\n",
      "Ep 29/100, it 324/324: loss train: 0.05, metric validation: 0.35\n",
      "Ep 30/100, it 324/324: loss train: 0.06, metric validation: 0.36\n",
      "Ep 31/100, it 324/324: loss train: 0.07, metric validation: 0.36\n",
      "Ep 32/100, it 324/324: loss train: 0.07, metric validation: 0.36\n",
      "Ep 33/100, it 324/324: loss train: 0.07, metric validation: 0.36\n",
      "Ep 34/100, it 324/324: loss train: 0.07, metric validation: 0.35\n",
      "Ep 35/100, it 324/324: loss train: 0.09, metric validation: 0.32\n",
      "Ep 36/100, it 324/324: loss train: 0.08, metric validation: 0.33\n",
      "Ep 37/100, it 324/324: loss train: 0.06, metric validation: 0.34\n",
      "Ep 38/100, it 324/324: loss train: 0.06, metric validation: 0.34\n",
      "Ep 39/100, it 324/324: loss train: 0.07, metric validation: 0.34\n",
      "Ep 40/100, it 324/324: loss train: 0.07, metric validation: 0.35\n",
      "Ep 41/100, it 324/324: loss train: 0.06, metric validation: 0.35\n",
      "Ep 42/100, it 324/324: loss train: 0.06, metric validation: 0.35\n",
      "Ep 43/100, it 324/324: loss train: 0.06, metric validation: 0.35\n",
      "Ep 44/100, it 324/324: loss train: 0.06, metric validation: 0.35\n",
      "Ep 45/100, it 324/324: loss train: 0.08, metric validation: 0.35\n",
      "Ep 46/100, it 324/324: loss train: 0.07, metric validation: 0.36\n",
      "Ep 47/100, it 324/324: loss train: 0.07, metric validation: 0.35\n",
      "Ep 48/100, it 324/324: loss train: 0.08, metric validation: 0.35\n",
      "Ep 49/100, it 324/324: loss train: 0.07, metric validation: 0.35\n",
      "Ep 50/100, it 324/324: loss train: 0.07, metric validation: 0.35\n",
      "Ep 51/100, it 324/324: loss train: 0.06, metric validation: 0.35\n",
      "Ep 52/100, it 324/324: loss train: 0.08, metric validation: 0.34\n",
      "Ep 53/100, it 324/324: loss train: 0.06, metric validation: 0.35\n",
      "Ep 54/100, it 324/324: loss train: 0.05, metric validation: 0.35\n",
      "Ep 55/100, it 324/324: loss train: 0.06, metric validation: 0.36\n",
      "Ep 56/100, it 324/324: loss train: 0.05, metric validation: 0.35\n",
      "Ep 57/100, it 324/324: loss train: 0.07, metric validation: 0.36\n",
      "Ep 58/100, it 324/324: loss train: 0.06, metric validation: 0.35\n",
      "Ep 59/100, it 324/324: loss train: 0.06, metric validation: 0.33\n",
      "Ep 60/100, it 324/324: loss train: 0.07, metric validation: 0.35\n",
      "Ep 61/100, it 324/324: loss train: 0.06, metric validation: 0.35\n",
      "Ep 62/100, it 324/324: loss train: 0.05, metric validation: 0.35\n",
      "Ep 63/100, it 324/324: loss train: 0.05, metric validation: 0.36\n",
      "Ep 64/100, it 324/324: loss train: 0.06, metric validation: 0.35\n",
      "Ep 65/100, it 324/324: loss train: 0.06, metric validation: 0.36\n",
      "Ep 66/100, it 324/324: loss train: 0.06, metric validation: 0.36\n",
      "Ep 67/100, it 324/324: loss train: 0.06, metric validation: 0.36\n",
      "Ep 68/100, it 324/324: loss train: 0.06, metric validation: 0.35\n",
      "Ep 69/100, it 324/324: loss train: 0.06, metric validation: 0.34\n",
      "Ep 70/100, it 324/324: loss train: 0.07, metric validation: 0.36\n",
      "Ep 71/100, it 324/324: loss train: 0.07, metric validation: 0.36\n",
      "Ep 72/100, it 324/324: loss train: 0.08, metric validation: 0.36\n",
      "Ep 73/100, it 324/324: loss train: 0.07, metric validation: 0.36\n",
      "Ep 74/100, it 324/324: loss train: 0.07, metric validation: 0.35\n",
      "Ep 75/100, it 324/324: loss train: 0.06, metric validation: 0.35\n",
      "Ep 76/100, it 324/324: loss train: 0.06, metric validation: 0.36\n",
      "Ep 77/100, it 324/324: loss train: 0.07, metric validation: 0.36\n",
      "Ep 78/100, it 324/324: loss train: 0.07, metric validation: 0.36\n",
      "Ep 79/100, it 324/324: loss train: 0.07, metric validation: 0.36\n",
      "Ep 80/100, it 324/324: loss train: 0.07, metric validation: 0.36\n",
      "Ep 81/100, it 324/324: loss train: 0.06, metric validation: 0.36\n",
      "Ep 82/100, it 324/324: loss train: 0.06, metric validation: 0.36\n",
      "Ep 83/100, it 324/324: loss train: 0.08, metric validation: 0.36\n",
      "Ep 84/100, it 324/324: loss train: 0.07, metric validation: 0.36\n",
      "Ep 85/100, it 324/324: loss train: 0.06, metric validation: 0.36\n",
      "Ep 86/100, it 324/324: loss train: 0.07, metric validation: 0.36\n",
      "Ep 87/100, it 324/324: loss train: 0.06, metric validation: 0.36\n",
      "Ep 88/100, it 324/324: loss train: 0.06, metric validation: 0.35\n",
      "Ep 89/100, it 324/324: loss train: 0.05, metric validation: 0.35\n",
      "Ep 90/100, it 324/324: loss train: 0.06, metric validation: 0.36\n",
      "Ep 91/100, it 324/324: loss train: 0.07, metric validation: 0.36\n",
      "Ep 92/100, it 324/324: loss train: 0.06, metric validation: 0.36\n",
      "Ep 93/100, it 324/324: loss train: 0.07, metric validation: 0.36\n",
      "Ep 94/100, it 324/324: loss train: 0.05, metric validation: 0.36\n",
      "Ep 95/100, it 324/324: loss train: 0.06, metric validation: 0.35\n",
      "Ep 96/100, it 324/324: loss train: 0.07, metric validation: 0.36\n",
      "Ep 97/100, it 324/324: loss train: 0.07, metric validation: 0.36\n",
      "Ep 98/100, it 324/324: loss train: 0.06, metric validation: 0.36\n",
      "Ep 99/100, it 324/324: loss train: 0.05, metric validation: 0.36\n",
      "Ep 100/100, it 324/324: loss train: 0.06, metric validation: 0.35\n"
     ]
    }
   ],
   "source": [
    "train_model(activations_ffn, loss_fn, opt, train_loader, val_inputs, val_targets, explained_variance_score, epochs=100)"
   ]
  },
  {
   "cell_type": "code",
   "execution_count": 25,
   "metadata": {},
   "outputs": [
    {
     "name": "stdout",
     "output_type": "stream",
     "text": [
      "-- ActivationsFFN --\n",
      "Mean EV: 0.35202184\n",
      "Mean Pearson correlation: 0.58248705\n"
     ]
    },
    {
     "data": {
      "image/png": "[encoded data removed]",
      "text/plain": [
       "<Figure size 1000x500 with 2 Axes>"
      ]
     },
     "metadata": {},
     "output_type": "display_data"
    }
   ],
   "source": [
    "activations_ffn.eval()\n",
    "predictions_ffn = activations_ffn(val_inputs).detach().cpu().numpy()\n",
    "predictions = {\n",
    "    \"ActivationsFFN\": predictions_ffn\n",
    "}\n",
    "evaluation_metrics(predictions, spikes_val)"
   ]
  },
  {
   "cell_type": "code",
   "execution_count": null,
   "metadata": {},
   "outputs": [],
   "source": []
  }
 ],
 "metadata": {
  "environment": {
   "kernel": "python3",
   "name": "pytorch-gpu.1-13.m104",
   "type": "gcloud",
   "uri": "gcr.io/deeplearning-platform-release/pytorch-gpu.1-13:m104"
  },
  "kernelspec": {
   "display_name": "brain",
   "language": "python",
   "name": "python3"
  },
  "language_info": {
   "codemirror_mode": {
    "name": "ipython",
    "version": 3
   },
   "file_extension": ".py",
   "mimetype": "text/x-python",
   "name": "python",
   "nbconvert_exporter": "python",
   "pygments_lexer": "ipython3",
   "version": "3.9.10"
  }
 },
 "nbformat": 4,
 "nbformat_minor": 4
}
